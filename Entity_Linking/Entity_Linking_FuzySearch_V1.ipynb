{
 "cells": [
  {
   "cell_type": "code",
   "execution_count": 3,
   "metadata": {},
   "outputs": [
    {
     "name": "stdout",
     "output_type": "stream",
     "text": [
      "Collecting textblob\n",
      "  Using cached textblob-0.15.3-py2.py3-none-any.whl (636 kB)\n",
      "Requirement already satisfied: nltk>=3.1 in c:\\programdata\\anaconda3\\envs\\tf\\lib\\site-packages (from textblob) (3.4.5)\n",
      "Requirement already satisfied: six in c:\\programdata\\anaconda3\\envs\\tf\\lib\\site-packages (from nltk>=3.1->textblob) (1.14.0)\n",
      "Installing collected packages: textblob\n",
      "Successfully installed textblob-0.15.3\n",
      "Collecting fuzzywuzzy\n",
      "  Using cached fuzzywuzzy-0.18.0-py2.py3-none-any.whl (18 kB)\n",
      "Installing collected packages: fuzzywuzzy\n",
      "Successfully installed fuzzywuzzy-0.18.0\n",
      "Processing c:\\users\\mani vegupatti\\appdata\\local\\pip\\cache\\wheels\\f0\\9b\\13\\49c281164c37be18343230d3cd0fca29efb23a493351db0009\\python_levenshtein-0.12.0-cp37-cp37m-win_amd64.whl\n",
      "Requirement already satisfied: setuptools in c:\\programdata\\anaconda3\\envs\\tf\\lib\\site-packages (from python-Levenshtein) (46.0.0.post20200309)\n",
      "Installing collected packages: python-Levenshtein\n",
      "Successfully installed python-Levenshtein-0.12.0\n"
     ]
    }
   ],
   "source": [
    "# install required packages\n",
    "! pip install textblob\n",
    "! pip install fuzzywuzzy\n",
    "! pip install python-Levenshtein"
   ]
  },
  {
   "cell_type": "code",
   "execution_count": 4,
   "metadata": {},
   "outputs": [],
   "source": [
    "# importing required packages and modules\n",
    "import pandas as pd\n",
    "from textblob import TextBlob\n",
    "import numpy as np\n",
    "import csv\n",
    "from fuzzywuzzy import process\n",
    "import pickle"
   ]
  },
  {
   "cell_type": "code",
   "execution_count": 5,
   "metadata": {},
   "outputs": [
    {
     "data": {
      "text/html": [
       "<div>\n",
       "<style scoped>\n",
       "    .dataframe tbody tr th:only-of-type {\n",
       "        vertical-align: middle;\n",
       "    }\n",
       "\n",
       "    .dataframe tbody tr th {\n",
       "        vertical-align: top;\n",
       "    }\n",
       "\n",
       "    .dataframe thead th {\n",
       "        text-align: right;\n",
       "    }\n",
       "</style>\n",
       "<table border=\"1\" class=\"dataframe\">\n",
       "  <thead>\n",
       "    <tr style=\"text-align: right;\">\n",
       "      <th></th>\n",
       "      <th>0</th>\n",
       "      <th>1</th>\n",
       "      <th>2</th>\n",
       "      <th>3</th>\n",
       "    </tr>\n",
       "  </thead>\n",
       "  <tbody>\n",
       "    <tr>\n",
       "      <th>0</th>\n",
       "      <td>1</td>\n",
       "      <td>http://bio2rdf.org/drugbank:DB04223</td>\n",
       "      <td>http://bio2rdf.org/drugbank_vocabulary:Drug</td>\n",
       "      <td>Nitroarginine</td>\n",
       "    </tr>\n",
       "    <tr>\n",
       "      <th>1</th>\n",
       "      <td>2</td>\n",
       "      <td>http://bio2rdf.org/drugbank:DB08129</td>\n",
       "      <td>http://bio2rdf.org/drugbank_vocabulary:Drug</td>\n",
       "      <td>(1R)-2-amino-1-[3-(trifluoromethyl)phenyl]ethanol</td>\n",
       "    </tr>\n",
       "    <tr>\n",
       "      <th>2</th>\n",
       "      <td>3</td>\n",
       "      <td>http://bio2rdf.org/drugbank:DB03491</td>\n",
       "      <td>http://bio2rdf.org/drugbank_vocabulary:Drug</td>\n",
       "      <td>2'-Deoxyguanosine-5'-Diphosphate</td>\n",
       "    </tr>\n",
       "  </tbody>\n",
       "</table>\n",
       "</div>"
      ],
      "text/plain": [
       "   0                                    1  \\\n",
       "0  1  http://bio2rdf.org/drugbank:DB04223   \n",
       "1  2  http://bio2rdf.org/drugbank:DB08129   \n",
       "2  3  http://bio2rdf.org/drugbank:DB03491   \n",
       "\n",
       "                                             2  \\\n",
       "0  http://bio2rdf.org/drugbank_vocabulary:Drug   \n",
       "1  http://bio2rdf.org/drugbank_vocabulary:Drug   \n",
       "2  http://bio2rdf.org/drugbank_vocabulary:Drug   \n",
       "\n",
       "                                                   3  \n",
       "0                                      Nitroarginine  \n",
       "1  (1R)-2-amino-1-[3-(trifluoromethyl)phenyl]ethanol  \n",
       "2                   2'-Deoxyguanosine-5'-Diphosphate  "
      ]
     },
     "execution_count": 5,
     "metadata": {},
     "output_type": "execute_result"
    }
   ],
   "source": [
    "# read the list of entities of the KG \n",
    "df = pd.read_csv('resources_list_v1.csv',header = None)\n",
    "df.head(3)"
   ]
  },
  {
   "cell_type": "code",
   "execution_count": 6,
   "metadata": {},
   "outputs": [
    {
     "data": {
      "text/plain": [
       "0                                        Nitroarginine\n",
       "1    (1R)-2-amino-1-[3-(trifluoromethyl)phenyl]ethanol\n",
       "2                     2'-Deoxyguanosine-5'-Diphosphate\n",
       "Name: 3, dtype: object"
      ]
     },
     "execution_count": 6,
     "metadata": {},
     "output_type": "execute_result"
    }
   ],
   "source": [
    "# extract label of entities to create n-gram and inverted index\n",
    "data = df.iloc[:,3]\n",
    "data.head(3)"
   ]
  },
  {
   "cell_type": "code",
   "execution_count": 7,
   "metadata": {},
   "outputs": [],
   "source": [
    "# function to create inverted index from n-grams of entities\n",
    "def create_inv_idx(data,max_len):\n",
    "    index_dict = {}\n",
    "    # loop the entities to create n-grams and dictionary   \n",
    "    for i in range(len(data)):\n",
    "        value = data[i]\n",
    "        # entity length = word count = number of spaces + 1\n",
    "        entity_len = value.count(' ') + 1  \n",
    "        # max_len = required length/word count of n_grams\n",
    "        if( entity_len >= max_len):\n",
    "            # assign entity length to n-gram length\n",
    "            ngram_len = entity_len\n",
    "            # find number iteration needed for n-grams generation\n",
    "            iterations = abs(ngram_len - max_len) + 1\n",
    "            for j in range(iterations):\n",
    "                ngrams = TextBlob(value).ngrams(ngram_len)\n",
    "                # get list of n-grams\n",
    "                ngram_list = [' '.join(grams) for grams in ngrams]\n",
    "                # updated inverted index \n",
    "                # with key = n_gram and value = entity string\n",
    "                for k in range(len(ngram_list)):\n",
    "                    if ngram_list[k].upper() in index_dict:\n",
    "                        index_dict[ngram_list[k].upper()].append(value)\n",
    "                    else:\n",
    "                        index_dict[ngram_list[k].upper()] = [value]\n",
    "                # decrement the n-gram length\n",
    "                ngram_len = ngram_len - 1\n",
    "        else:\n",
    "            if value.upper() in index_dict:\n",
    "                index_dict[value.upper()].append(value)\n",
    "            else:\n",
    "                index_dict[value.upper()] = [value]\n",
    "    \n",
    "    return index_dict"
   ]
  },
  {
   "cell_type": "code",
   "execution_count": 8,
   "metadata": {},
   "outputs": [],
   "source": [
    "# provide the length of n-grams\n",
    "n_gram_split = 3\n",
    "final_inv_idx = create_inv_idx(data,n_gram_split)\n",
    "\n",
    "# exporting final inverted index to a pickle\n",
    "with open('inverted_index_v2.pickle' , 'wb') as handle:\n",
    "    pickle.dump(final_inv_idx, handle , protocol = pickle.HIGHEST_PROTOCOL)"
   ]
  },
  {
   "cell_type": "code",
   "execution_count": 9,
   "metadata": {},
   "outputs": [
    {
     "name": "stdout",
     "output_type": "stream",
     "text": [
      "True\n"
     ]
    }
   ],
   "source": [
    "# loading the inverted index from pickle\n",
    "with open('inverted_index_v2.pickle', 'rb') as handle:\n",
    "    inv_idx_pickle = pickle.load(handle)\n",
    "\n",
    "# while creation, check created inverted idex is same as loaded inverted index\n",
    "if 'final_inv_idx' in locals() or 'final_inv_idx' in globals():\n",
    "    print(final_inv_idx == inv_idx_pickle)"
   ]
  },
  {
   "cell_type": "code",
   "execution_count": 14,
   "metadata": {},
   "outputs": [],
   "source": [
    "# function to retrieve the top entity of the predicted entity string\n",
    "def top_entity(pred_entity_string):\n",
    "    \n",
    "    # Step by step procedure to entities list using predicted entity string as input\n",
    "    #*******************************************************************************\n",
    "    # get top_10_rank_keys from the inverted index key for user input\n",
    "    # Find max score from the top_10_rank_keys list\n",
    "    # get max_score_keys using max_score\n",
    "    # find max length from max_score_keys list \n",
    "    # get top_keys using max_length\n",
    "    # get entities by index 0\n",
    "    \n",
    "    top_10_rank_keys = process.extract(pred_entity_string, keys , limit = 10)\n",
    "    max_score_key = max(top_10_rank_keys, key=lambda item: item[1])\n",
    "    max_key_score = max_score_key[1]\n",
    "    h_score_keys = [row[0] for row in top_10_rank_keys if row[1] == max_key_score ]\n",
    "    max_len_key = max(h_score_keys, key=lambda item: item.count(' ') + 1 )\n",
    "    max_key_len = max_len_key.count(' ') + 1\n",
    "    top_keys = [row for row in h_score_keys if row.count(' ') + 1 == max_key_len ]\n",
    "    entities_list = inv_idx_pickle[top_keys[0]]\n",
    "    \n",
    "    # Step by step procedure to retrieve top scored entity from entities list using predicted entity string as input\n",
    "    # **************************************************************************************************************\n",
    "    # get top_10_entities from the previoues entities list\n",
    "    # Find max Score from the top_10_entities list\n",
    "    # get max_score_entities using max_score\n",
    "    # find max Length from max_score_entities list \n",
    "    # get top_entities using max_length\n",
    "    # get entity by index 0\n",
    "    \n",
    "    top_10_entities = process.extract(pred_entity_string, entities_list , limit = 10)\n",
    "    max_score_entity = max(top_10_entities, key=lambda item: item[1])\n",
    "    max_entity_score = max_score_entity[1]\n",
    "    h_score_entities = [row[0] for row in top_10_entities if row[1] == max_entity_score ]\n",
    "    max_len_entity = max(h_score_entities, key=lambda item: item.count(' ') + 1 )\n",
    "    max_entity_len = max_len_entity.count(' ') + 1\n",
    "    top_entities = [row for row in h_score_entities if row.count(' ') + 1 == max_entity_len ]\n",
    "    return top_entities[0]    "
   ]
  },
  {
   "cell_type": "code",
   "execution_count": 15,
   "metadata": {},
   "outputs": [],
   "source": [
    "# create list of keys from inverted index\n",
    "keys = [k for k in inv_idx_pickle]"
   ]
  },
  {
   "cell_type": "code",
   "execution_count": 16,
   "metadata": {},
   "outputs": [
    {
     "data": {
      "text/plain": [
       "'Botulinum Toxin Type B'"
      ]
     },
     "execution_count": 16,
     "metadata": {},
     "output_type": "execute_result"
    }
   ],
   "source": [
    "# check the retrieved entity using the substring of an entity\n",
    "entity = top_entity('BOTULINUM TOXIN TYPE')\n",
    "entity"
   ]
  },
  {
   "cell_type": "code",
   "execution_count": 17,
   "metadata": {},
   "outputs": [
    {
     "data": {
      "text/html": [
       "<div>\n",
       "<style scoped>\n",
       "    .dataframe tbody tr th:only-of-type {\n",
       "        vertical-align: middle;\n",
       "    }\n",
       "\n",
       "    .dataframe tbody tr th {\n",
       "        vertical-align: top;\n",
       "    }\n",
       "\n",
       "    .dataframe thead th {\n",
       "        text-align: right;\n",
       "    }\n",
       "</style>\n",
       "<table border=\"1\" class=\"dataframe\">\n",
       "  <thead>\n",
       "    <tr style=\"text-align: right;\">\n",
       "      <th></th>\n",
       "      <th>Unnamed: 0</th>\n",
       "      <th>SlNo</th>\n",
       "      <th>Question</th>\n",
       "      <th>Relation</th>\n",
       "      <th>Pred_Relation</th>\n",
       "      <th>Relation_result</th>\n",
       "      <th>NER_Tag</th>\n",
       "      <th>Q_Len</th>\n",
       "      <th>T_Len</th>\n",
       "      <th>Subject</th>\n",
       "      <th>Pred_Subject</th>\n",
       "      <th>Subject_result</th>\n",
       "      <th>Pair_Result</th>\n",
       "      <th>IR_Pred_Subject</th>\n",
       "      <th>IR_Subject_Result</th>\n",
       "      <th>IR_Pair_Result</th>\n",
       "      <th>Subject_URI</th>\n",
       "      <th>Relation_URI</th>\n",
       "    </tr>\n",
       "  </thead>\n",
       "  <tbody>\n",
       "    <tr>\n",
       "      <th>0</th>\n",
       "      <td>297</td>\n",
       "      <td>298</td>\n",
       "      <td>Nitroglycerin is patented under which number</td>\n",
       "      <td>patent</td>\n",
       "      <td>patent</td>\n",
       "      <td>Ok</td>\n",
       "      <td>B-E O O O O O</td>\n",
       "      <td>6</td>\n",
       "      <td>6</td>\n",
       "      <td>Nitroglycerin</td>\n",
       "      <td>Nitroglycerin</td>\n",
       "      <td>Ok</td>\n",
       "      <td>Ok</td>\n",
       "      <td>Nitroglycerin</td>\n",
       "      <td>Ok</td>\n",
       "      <td>Ok</td>\n",
       "      <td>http://bio2rdf.org/drugbank:DB00727</td>\n",
       "      <td>http://bio2rdf.org/drugbank_vocabulary:patent</td>\n",
       "    </tr>\n",
       "    <tr>\n",
       "      <th>1</th>\n",
       "      <td>470</td>\n",
       "      <td>471</td>\n",
       "      <td>which companies manufacture Phenmetrazine</td>\n",
       "      <td>manufacturer</td>\n",
       "      <td>manufacturer</td>\n",
       "      <td>Ok</td>\n",
       "      <td>O O O B-E</td>\n",
       "      <td>4</td>\n",
       "      <td>4</td>\n",
       "      <td>Phenmetrazine</td>\n",
       "      <td>Phenmetrazine</td>\n",
       "      <td>Ok</td>\n",
       "      <td>Ok</td>\n",
       "      <td>Phenmetrazine</td>\n",
       "      <td>Ok</td>\n",
       "      <td>Ok</td>\n",
       "      <td>http://bio2rdf.org/drugbank:DB00830</td>\n",
       "      <td>http://bio2rdf.org/drugbank_vocabulary:manufac...</td>\n",
       "    </tr>\n",
       "    <tr>\n",
       "      <th>2</th>\n",
       "      <td>536</td>\n",
       "      <td>537</td>\n",
       "      <td>list all synonyms of Nepafenac</td>\n",
       "      <td>synonym</td>\n",
       "      <td>synonym</td>\n",
       "      <td>Ok</td>\n",
       "      <td>O O O O B-E</td>\n",
       "      <td>5</td>\n",
       "      <td>5</td>\n",
       "      <td>Nepafenac</td>\n",
       "      <td>Nepafenac</td>\n",
       "      <td>Ok</td>\n",
       "      <td>Ok</td>\n",
       "      <td>Nepafenac</td>\n",
       "      <td>Ok</td>\n",
       "      <td>Ok</td>\n",
       "      <td>http://bio2rdf.org/drugbank:DB06802</td>\n",
       "      <td>http://bio2rdf.org/drugbank_vocabulary:synonym</td>\n",
       "    </tr>\n",
       "  </tbody>\n",
       "</table>\n",
       "</div>"
      ],
      "text/plain": [
       "   Unnamed: 0  SlNo                                      Question  \\\n",
       "0         297   298  Nitroglycerin is patented under which number   \n",
       "1         470   471     which companies manufacture Phenmetrazine   \n",
       "2         536   537                list all synonyms of Nepafenac   \n",
       "\n",
       "       Relation Pred_Relation Relation_result        NER_Tag  Q_Len  T_Len  \\\n",
       "0        patent        patent              Ok  B-E O O O O O      6      6   \n",
       "1  manufacturer  manufacturer              Ok      O O O B-E      4      4   \n",
       "2       synonym       synonym              Ok    O O O O B-E      5      5   \n",
       "\n",
       "         Subject   Pred_Subject Subject_result Pair_Result IR_Pred_Subject  \\\n",
       "0  Nitroglycerin  Nitroglycerin             Ok          Ok   Nitroglycerin   \n",
       "1  Phenmetrazine  Phenmetrazine             Ok          Ok   Phenmetrazine   \n",
       "2      Nepafenac      Nepafenac             Ok          Ok       Nepafenac   \n",
       "\n",
       "  IR_Subject_Result IR_Pair_Result                          Subject_URI  \\\n",
       "0                Ok             Ok  http://bio2rdf.org/drugbank:DB00727   \n",
       "1                Ok             Ok  http://bio2rdf.org/drugbank:DB00830   \n",
       "2                Ok             Ok  http://bio2rdf.org/drugbank:DB06802   \n",
       "\n",
       "                                        Relation_URI  \n",
       "0      http://bio2rdf.org/drugbank_vocabulary:patent  \n",
       "1  http://bio2rdf.org/drugbank_vocabulary:manufac...  \n",
       "2     http://bio2rdf.org/drugbank_vocabulary:synonym  "
      ]
     },
     "execution_count": 17,
     "metadata": {},
     "output_type": "execute_result"
    }
   ],
   "source": [
    "# read the list of predicted entities from NER task\n",
    "df = pd.read_excel('test_qa_data_v00.xlsx')\n",
    "df.head(3)"
   ]
  },
  {
   "cell_type": "code",
   "execution_count": 18,
   "metadata": {},
   "outputs": [],
   "source": [
    "# link predicted entities-string with actual entities using fuzzy-search \n",
    "pred_entities_list = []\n",
    "for pred_subj in df['Pred_Subject']:\n",
    "    entity = top_entity(pred_subj)\n",
    "    pred_entities_list.append(entity)"
   ]
  },
  {
   "cell_type": "code",
   "execution_count": 19,
   "metadata": {},
   "outputs": [
    {
     "name": "stdout",
     "output_type": "stream",
     "text": [
      "['Nitroglycerin', 'Phenmetrazine', 'Nepafenac', 'Hydrochlorothiazide', 'Zafirlukast', 'Theophylline', 'Aldehyde oxidase', 'Vitamin D3 receptor', 'Glutethimide', 'L-Cysteine', 'Flurandrenolide', 'Dipivefrin', 'Flavohemoprotein', 'Preotact', 'MGCD-0103', 'Cytochrome P450 2B7 isoform', 'Deferasirox', 'Aspartate Semialdehyde', 'Ibuprofen', 'Transthyretin', 'Cefmetazole', 'Glycine', 'Hydromorphone', 'Fluticasone Propionate', 'Ketoconazole', 'Phenylephrine', 'Estriol', 'Acetyl-CoA carboxylase 2', 'Fusidic Acid', 'Simvastatin', 'Peginterferon alfa-2b', 'Loratadine', 'NBI-6024', 'Cephalexin', 'AZD6140', 'Vitamin D-binding protein', 'Warfarin', 'Pegaptanib', 'Human Serum Albumin', 'MEM 1414', 'Delorazepam', 'Menthol', 'Cytochrome P450 2B7 isoform', 'Chlorphenamine', 'Diclofenac', 'Venlafaxine', 'Hydrolase', 'Gold bond medicated lotion', 'Beta-lactamase TEM', 'Isradipine', '33 kDa chaperonin', 'Ammonia channel', 'Moxifloxacin', 'Aldehyde oxidase', 'Ziprasidone', 'Cytochrome P450 2B7 isoform', 'Thyroxine-binding globulin', 'Lepirudin', 'Clobetasol propionate', 'Ioflupane I 123', 'Subtilisin Savinase', 'Oxiconazole', 'Vitamin D-binding protein', 'Timolol', 'Dobutamine', 'Thyroxine-binding globulin', 'Pergolide', 'Peptide deformylase', 'Icosapent', 'Dihomo-γ-linolenic acid', 'Lactotransferrin', 'Lindane', 'Denileukin diftitox', 'Metronidazole', 'Axitinib', 'Zidovudine', 'Arylamine N-acetyltransferase', 'Bronchyl SYR', 'Aclidinium', '19-norandrostenedione', 'Adefovir Dipivoxil', 'Glutathione peroxidase 1', 'Chlorprothixene', 'Tauroursodeoxycholic acid', 'Lin o gel', 'Ibandronate', 'Flavopiridol', 'Magnesium oxide', 'Aldehyde oxidase', 'DNA polymerase I', 'Codeine', 'Clopidogrel', 'Ketobemidone', 'Gadofosveset trisodium', 'L-Phenylalanine', 'Sodium bicarbonate', 'Isosorbide Dinitrate', 'Glucagon recombinant', 'Cinoxacin', 'Potassium Chloride', 'Cefuroxime', 'Arbekacin', 'Cholic Acid', 'Cytochrome P450 2B7 isoform', 'Cefamandole', 'ACA 125', 'Acetylsalicylic acid', 'Mupirocin', 'ado-trastuzumab emtansine', 'Cloxacillin', 'Isosorbide Mononitrate', 'Isosorbide Dinitrate', 'Radium Ra 223 Dichloride', 'Thiamine']\n"
     ]
    }
   ],
   "source": [
    "# print the entities linked using fuzzy-search \n",
    "print(pred_entities_list)"
   ]
  },
  {
   "cell_type": "code",
   "execution_count": 20,
   "metadata": {},
   "outputs": [],
   "source": [
    "# write to csv file to calculate pair accuracy\n",
    "with open('ir_p_entities_final_v00.csv', 'w', newline='', encoding='utf-8') as myfile:\n",
    "     wr = csv.writer(myfile, quoting=csv.QUOTE_ALL)\n",
    "     wr.writerow(pred_entities_list)"
   ]
  }
 ],
 "metadata": {
  "kernelspec": {
   "display_name": "Python 3",
   "language": "python",
   "name": "python3"
  },
  "language_info": {
   "codemirror_mode": {
    "name": "ipython",
    "version": 3
   },
   "file_extension": ".py",
   "mimetype": "text/x-python",
   "name": "python",
   "nbconvert_exporter": "python",
   "pygments_lexer": "ipython3",
   "version": "3.7.7"
  }
 },
 "nbformat": 4,
 "nbformat_minor": 4
}
