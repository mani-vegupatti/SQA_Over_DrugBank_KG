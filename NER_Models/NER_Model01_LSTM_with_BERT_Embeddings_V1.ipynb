{
 "cells": [
  {
   "cell_type": "code",
   "execution_count": 1,
   "metadata": {},
   "outputs": [
    {
     "name": "stderr",
     "output_type": "stream",
     "text": [
      "Using TensorFlow backend.\n"
     ]
    },
    {
     "name": "stdout",
     "output_type": "stream",
     "text": [
      "1.15.0\n",
      "2.3.1\n"
     ]
    }
   ],
   "source": [
    "# import all required modeuls\n",
    "import tensorflow as tf\n",
    "import keras\n",
    "import numpy as np\n",
    "import pandas as pd\n",
    "from keras.models import Model, Input\n",
    "from keras.layers import LSTM, Embedding, Dense, TimeDistributed, Dropout, Bidirectional\n",
    "from keras_contrib.layers import CRF\n",
    "from keras.callbacks import ModelCheckpoint\n",
    "import matplotlib.pyplot as plt\n",
    "import pickle\n",
    "from seqeval.metrics import accuracy_score, precision_score, recall_score, f1_score, classification_report\n",
    "\n",
    "#check version of tensorflow and keras\n",
    "print(tf.__version__)\n",
    "print(keras.__version__)"
   ]
  },
  {
   "cell_type": "code",
   "execution_count": 2,
   "metadata": {},
   "outputs": [
    {
     "name": "stdout",
     "output_type": "stream",
     "text": [
      "{'O': 0, 'B-E': 1, 'I-E': 2, 'PAD': 3}\n"
     ]
    },
    {
     "data": {
      "text/plain": [
       "4"
      ]
     },
     "execution_count": 2,
     "metadata": {},
     "output_type": "execute_result"
    }
   ],
   "source": [
    "#define ner_tags\n",
    "tag_values = ['O', 'B-E', 'I-E', 'PAD']\n",
    "tag_dict = {tag: num for num, tag in enumerate(tag_values)}\n",
    "print(tag_dict)\n",
    "n_tags = len(tag_values); n_tags  "
   ]
  },
  {
   "cell_type": "code",
   "execution_count": 3,
   "metadata": {},
   "outputs": [],
   "source": [
    "# define constants\n",
    "word_embedding_size = 768\n",
    "MAX_LEN = 32\n",
    "nr_epoches = 15"
   ]
  },
  {
   "cell_type": "code",
   "execution_count": 4,
   "metadata": {},
   "outputs": [],
   "source": [
    "# import the bert word embeddings, target labels(y) from pickle \n",
    "infile = open('y_train_file_v2','rb')\n",
    "y_train = pickle.load(infile)\n",
    "infile.close()\n",
    "infile = open('train_embeddings_file_v2','rb')\n",
    "train_embeddings = pickle.load(infile)\n",
    "infile.close()\n",
    "\n",
    "infile = open('valid_embeddings_file_v2','rb')\n",
    "valid_embeddings = pickle.load(infile)\n",
    "infile.close()\n",
    "infile = open('y_valid_file_v2','rb')\n",
    "y_valid = pickle.load(infile)\n",
    "infile.close()\n",
    "\n",
    "infile = open('test_embeddings_file_v2','rb')\n",
    "test_embeddings = pickle.load(infile)\n",
    "infile.close()\n",
    "infile = open('y_test_file_v2','rb')\n",
    "y_test = pickle.load(infile)\n",
    "infile.close()"
   ]
  },
  {
   "cell_type": "code",
   "execution_count": 5,
   "metadata": {},
   "outputs": [
    {
     "name": "stdout",
     "output_type": "stream",
     "text": [
      "WARNING:tensorflow:From C:\\ProgramData\\Anaconda3\\envs\\TF\\lib\\site-packages\\tensorflow_core\\python\\ops\\resource_variable_ops.py:1630: calling BaseResourceVariable.__init__ (from tensorflow.python.ops.resource_variable_ops) with constraint is deprecated and will be removed in a future version.\n",
      "Instructions for updating:\n",
      "If using Keras pass *_constraint arguments to layers.\n"
     ]
    }
   ],
   "source": [
    "# define the Bi-LSTM + CRF model with BERT word embeddings\n",
    "input = Input(shape=(MAX_LEN,word_embedding_size))\n",
    "model = Bidirectional(LSTM(units=int(MAX_LEN/4), \n",
    "                           return_sequences= True,\n",
    "                           dropout=0.5,\n",
    "                          recurrent_dropout=0.5))(input)\n",
    "model = TimeDistributed(Dense(n_tags, activation=\"softmax\"))(model)  \n",
    "crf = CRF(n_tags)\n",
    "model = crf(model)\n",
    "model = Model(input, model)"
   ]
  },
  {
   "cell_type": "code",
   "execution_count": 6,
   "metadata": {
    "scrolled": true
   },
   "outputs": [
    {
     "name": "stderr",
     "output_type": "stream",
     "text": [
      "C:\\ProgramData\\Anaconda3\\envs\\TF\\lib\\site-packages\\keras_contrib\\layers\\crf.py:346: UserWarning: CRF.loss_function is deprecated and it might be removed in the future. Please use losses.crf_loss instead.\n",
      "  warnings.warn('CRF.loss_function is deprecated '\n",
      "C:\\ProgramData\\Anaconda3\\envs\\TF\\lib\\site-packages\\keras_contrib\\layers\\crf.py:353: UserWarning: CRF.accuracy is deprecated and it might be removed in the future. Please use metrics.crf_accuracy\n",
      "  warnings.warn('CRF.accuracy is deprecated and it '\n"
     ]
    },
    {
     "name": "stdout",
     "output_type": "stream",
     "text": [
      "WARNING:tensorflow:From C:\\ProgramData\\Anaconda3\\envs\\TF\\lib\\site-packages\\tensorflow_core\\python\\ops\\math_ops.py:2509: where (from tensorflow.python.ops.array_ops) is deprecated and will be removed in a future version.\n",
      "Instructions for updating:\n",
      "Use tf.where in 2.0, which has the same broadcast rule as np.where\n",
      "Model: \"model_1\"\n",
      "_________________________________________________________________\n",
      "Layer (type)                 Output Shape              Param #   \n",
      "=================================================================\n",
      "input_1 (InputLayer)         (None, 32, 768)           0         \n",
      "_________________________________________________________________\n",
      "bidirectional_1 (Bidirection (None, 32, 16)            49728     \n",
      "_________________________________________________________________\n",
      "time_distributed_1 (TimeDist (None, 32, 4)             68        \n",
      "_________________________________________________________________\n",
      "crf_1 (CRF)                  (None, 32, 4)             44        \n",
      "=================================================================\n",
      "Total params: 49,840\n",
      "Trainable params: 49,840\n",
      "Non-trainable params: 0\n",
      "_________________________________________________________________\n"
     ]
    }
   ],
   "source": [
    "# compile the model with required optimizer, loss function and evaluation metrices\n",
    "model.compile(optimizer='adam', loss=crf.loss_function, metrics=[crf.accuracy, 'accuracy'])\n",
    "model.summary()"
   ]
  },
  {
   "cell_type": "code",
   "execution_count": 7,
   "metadata": {},
   "outputs": [
    {
     "name": "stdout",
     "output_type": "stream",
     "text": [
      "WARNING:tensorflow:From C:\\ProgramData\\Anaconda3\\envs\\TF\\lib\\site-packages\\keras\\backend\\tensorflow_backend.py:422: The name tf.global_variables is deprecated. Please use tf.compat.v1.global_variables instead.\n",
      "\n",
      "Train on 406 samples, validate on 46 samples\n",
      "Epoch 1/15\n",
      " - 2s - loss: 1.7821 - crf_viterbi_accuracy: 0.3996 - accuracy: 0.2036 - val_loss: 1.7214 - val_crf_viterbi_accuracy: 0.4389 - val_accuracy: 0.4368\n",
      "Epoch 2/15\n",
      " - 1s - loss: 1.7005 - crf_viterbi_accuracy: 0.4329 - accuracy: 0.2036 - val_loss: 1.6534 - val_crf_viterbi_accuracy: 0.4199 - val_accuracy: 0.4164\n",
      "Epoch 3/15\n",
      " - 1s - loss: 1.6302 - crf_viterbi_accuracy: 0.4312 - accuracy: 0.2036 - val_loss: 1.5849 - val_crf_viterbi_accuracy: 0.4339 - val_accuracy: 0.4334\n",
      "Epoch 4/15\n",
      " - 1s - loss: 1.5624 - crf_viterbi_accuracy: 0.4378 - accuracy: 0.2036 - val_loss: 1.5145 - val_crf_viterbi_accuracy: 0.4353 - val_accuracy: 0.4361\n",
      "Epoch 5/15\n",
      " - 1s - loss: 1.4906 - crf_viterbi_accuracy: 0.4344 - accuracy: 0.2036 - val_loss: 1.4396 - val_crf_viterbi_accuracy: 0.4307 - val_accuracy: 0.4307\n",
      "Epoch 6/15\n",
      " - 1s - loss: 1.4156 - crf_viterbi_accuracy: 0.3977 - accuracy: 0.2036 - val_loss: 1.3604 - val_crf_viterbi_accuracy: 0.4288 - val_accuracy: 0.4280\n",
      "Epoch 7/15\n",
      " - 1s - loss: 1.3395 - crf_viterbi_accuracy: 0.3152 - accuracy: 0.2036 - val_loss: 1.2826 - val_crf_viterbi_accuracy: 0.1975 - val_accuracy: 0.1909\n",
      "Epoch 8/15\n",
      " - 1s - loss: 1.2668 - crf_viterbi_accuracy: 0.2455 - accuracy: 0.2036 - val_loss: 1.2151 - val_crf_viterbi_accuracy: 0.1458 - val_accuracy: 0.1399\n",
      "Epoch 9/15\n",
      " - 1s - loss: 1.2001 - crf_viterbi_accuracy: 0.2201 - accuracy: 0.2036 - val_loss: 1.1557 - val_crf_viterbi_accuracy: 0.1354 - val_accuracy: 0.1325\n",
      "Epoch 10/15\n",
      " - 1s - loss: 1.1427 - crf_viterbi_accuracy: 0.2261 - accuracy: 0.2036 - val_loss: 1.1023 - val_crf_viterbi_accuracy: 0.1503 - val_accuracy: 0.1515\n",
      "Epoch 11/15\n",
      " - 1s - loss: 1.0887 - crf_viterbi_accuracy: 0.2269 - accuracy: 0.2036 - val_loss: 1.0531 - val_crf_viterbi_accuracy: 0.1684 - val_accuracy: 0.1705\n",
      "Epoch 12/15\n",
      " - 1s - loss: 1.0387 - crf_viterbi_accuracy: 0.2518 - accuracy: 0.2036 - val_loss: 1.0062 - val_crf_viterbi_accuracy: 0.1922 - val_accuracy: 0.1950\n",
      "Epoch 13/15\n",
      " - 1s - loss: 0.9921 - crf_viterbi_accuracy: 0.2820 - accuracy: 0.2036 - val_loss: 0.9627 - val_crf_viterbi_accuracy: 0.2613 - val_accuracy: 0.2622\n",
      "Epoch 14/15\n",
      " - 1s - loss: 0.9477 - crf_viterbi_accuracy: 0.4564 - accuracy: 0.2036 - val_loss: 0.9209 - val_crf_viterbi_accuracy: 0.5156 - val_accuracy: 0.5251\n",
      "Epoch 15/15\n",
      " - 1s - loss: 0.9056 - crf_viterbi_accuracy: 0.8067 - accuracy: 0.2036 - val_loss: 0.8813 - val_crf_viterbi_accuracy: 0.9250 - val_accuracy: 0.9280\n"
     ]
    }
   ],
   "source": [
    "# train the model with training data and validate with validation data\n",
    "history = model.fit(np.asarray(train_embeddings), np.asarray(y_train), batch_size=32, epochs=nr_epoches,\n",
    "                    validation_data = (np.asarray(valid_embeddings), np.asarray(y_valid)), verbose=2)"
   ]
  },
  {
   "cell_type": "code",
   "execution_count": 12,
   "metadata": {},
   "outputs": [],
   "source": [
    "# function to convert numebrs to NER_TAGs\n",
    "key_dict = {num: key for key, num in tag_dict.items()}\n",
    "\n",
    "def pred_to_ner_tag(pred_list):\n",
    "    ner_tags_list = []\n",
    "    for pred in pred_list:\n",
    "        ner_tags = []\n",
    "        for value in pred:\n",
    "            num = np.argmax(value)\n",
    "            ner_tags.append(key_dict[num])\n",
    "        ner_tags_list.append(ner_tags)\n",
    "    return ner_tags_list"
   ]
  },
  {
   "cell_type": "code",
   "execution_count": 13,
   "metadata": {},
   "outputs": [
    {
     "name": "stdout",
     "output_type": "stream",
     "text": [
      "----------------------------------    Validation Datset    ----------------------------------\n",
      "46/46 [==============================] - 0s 802us/step\n",
      "F-score: 34.3%\n",
      "Accuracy: 92.8%\n",
      "           precision    recall  f1-score   support\n",
      "\n",
      "        E       0.00      0.00      0.00        46\n",
      "      PAD       0.36      0.67      0.47        46\n",
      "\n",
      "micro avg       0.35      0.34      0.34        92\n",
      "macro avg       0.18      0.34      0.23        92\n",
      "\n"
     ]
    }
   ],
   "source": [
    "# calculate and print evaluation metrices for validation dataset\n",
    "print('----------------------------------    Validation Datset    ----------------------------------')\n",
    "valid_pred = model.predict(np.asarray(valid_embeddings), verbose=1)\n",
    "pred_labels = pred_to_ner_tag(valid_pred)\n",
    "valid_labels = pred_to_ner_tag(y_valid)\n",
    "print(\"F-score: {:.1%}\".format(f1_score(valid_labels, pred_labels)))\n",
    "print(\"Accuracy: {:.1%}\".format(accuracy_score(valid_labels, pred_labels)))\n",
    "print(classification_report(valid_labels, pred_labels))"
   ]
  },
  {
   "cell_type": "code",
   "execution_count": 14,
   "metadata": {},
   "outputs": [
    {
     "name": "stdout",
     "output_type": "stream",
     "text": [
      "['PAD', 'PAD', 'PAD', 'PAD', 'PAD', 'PAD', 'PAD', 'PAD', 'PAD', 'PAD', 'PAD', 'PAD', 'PAD', 'PAD', 'PAD', 'PAD', 'PAD', 'PAD', 'PAD', 'PAD', 'PAD', 'PAD', 'O', 'O', 'O', 'O', 'O', 'O', 'O', 'O', 'O', 'O']\n",
      "['PAD', 'PAD', 'PAD', 'PAD', 'PAD', 'PAD', 'PAD', 'PAD', 'PAD', 'PAD', 'PAD', 'PAD', 'PAD', 'PAD', 'PAD', 'PAD', 'PAD', 'PAD', 'PAD', 'PAD', 'PAD', 'PAD', 'O', 'O', 'O', 'O', 'O', 'O', 'O', 'B-E', 'I-E', 'I-E']\n"
     ]
    }
   ],
   "source": [
    "# print NER_TAGs of one sample for visualization\n",
    "print(pred_labels[0])\n",
    "print(valid_labels[0])"
   ]
  },
  {
   "cell_type": "code",
   "execution_count": 15,
   "metadata": {},
   "outputs": [
    {
     "name": "stdout",
     "output_type": "stream",
     "text": [
      "----------------------------------    Testing Datset    ----------------------------------\n",
      "114/114 [==============================] - 0s 647us/step\n",
      "F1-score: 37.1%\n",
      "Accuracy: 93.5%\n",
      "           precision    recall  f1-score   support\n",
      "\n",
      "      PAD       0.38      0.74      0.50       114\n",
      "        E       0.00      0.00      0.00       114\n",
      "\n",
      "micro avg       0.37      0.37      0.37       228\n",
      "macro avg       0.19      0.37      0.25       228\n",
      "\n"
     ]
    }
   ],
   "source": [
    "# calculate and print evaluation metrices for testing dataset\n",
    "print('----------------------------------    Testing Datset    ----------------------------------')\n",
    "test_pred = model.predict(np.asarray(test_embeddings), verbose=1)\n",
    "pred_labels = pred_to_ner_tag(test_pred)\n",
    "test_labels = pred_to_ner_tag(y_test)\n",
    "print(\"F1-score: {:.1%}\".format(f1_score(test_labels, pred_labels)))\n",
    "print(\"Accuracy: {:.1%}\".format(accuracy_score(test_labels, pred_labels)))\n",
    "print(classification_report(test_labels, pred_labels))"
   ]
  }
 ],
 "metadata": {
  "kernelspec": {
   "display_name": "Python 3",
   "language": "python",
   "name": "python3"
  },
  "language_info": {
   "codemirror_mode": {
    "name": "ipython",
    "version": 3
   },
   "file_extension": ".py",
   "mimetype": "text/x-python",
   "name": "python",
   "nbconvert_exporter": "python",
   "pygments_lexer": "ipython3",
   "version": "3.7.6"
  }
 },
 "nbformat": 4,
 "nbformat_minor": 1
}
