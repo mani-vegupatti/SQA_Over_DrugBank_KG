{
  "nbformat": 4,
  "nbformat_minor": 0,
  "metadata": {
    "colab": {
      "name": "NER_Model01_BERT_Embeddings_for_LSTM_V1.ipynb",
      "provenance": [],
      "collapsed_sections": []
    },
    "kernelspec": {
      "name": "python3",
      "display_name": "Python 3"
    },
    "widgets": {
      "application/vnd.jupyter.widget-state+json": {
        "deb394683c6d43099f9c65f8218f8869": {
          "model_module": "@jupyter-widgets/controls",
          "model_name": "HBoxModel",
          "state": {
            "_view_name": "HBoxView",
            "_dom_classes": [],
            "_model_name": "HBoxModel",
            "_view_module": "@jupyter-widgets/controls",
            "_model_module_version": "1.5.0",
            "_view_count": null,
            "_view_module_version": "1.5.0",
            "box_style": "",
            "layout": "IPY_MODEL_217c1a12c2d444a7a918fa91ac2a0f11",
            "_model_module": "@jupyter-widgets/controls",
            "children": [
              "IPY_MODEL_02c5719701944477b5161305ea17e172",
              "IPY_MODEL_c1986e592e9648ab80132850a49ad39b"
            ]
          }
        },
        "217c1a12c2d444a7a918fa91ac2a0f11": {
          "model_module": "@jupyter-widgets/base",
          "model_name": "LayoutModel",
          "state": {
            "_view_name": "LayoutView",
            "grid_template_rows": null,
            "right": null,
            "justify_content": null,
            "_view_module": "@jupyter-widgets/base",
            "overflow": null,
            "_model_module_version": "1.2.0",
            "_view_count": null,
            "flex_flow": null,
            "width": null,
            "min_width": null,
            "border": null,
            "align_items": null,
            "bottom": null,
            "_model_module": "@jupyter-widgets/base",
            "top": null,
            "grid_column": null,
            "overflow_y": null,
            "overflow_x": null,
            "grid_auto_flow": null,
            "grid_area": null,
            "grid_template_columns": null,
            "flex": null,
            "_model_name": "LayoutModel",
            "justify_items": null,
            "grid_row": null,
            "max_height": null,
            "align_content": null,
            "visibility": null,
            "align_self": null,
            "height": null,
            "min_height": null,
            "padding": null,
            "grid_auto_rows": null,
            "grid_gap": null,
            "max_width": null,
            "order": null,
            "_view_module_version": "1.2.0",
            "grid_template_areas": null,
            "object_position": null,
            "object_fit": null,
            "grid_auto_columns": null,
            "margin": null,
            "display": null,
            "left": null
          }
        },
        "02c5719701944477b5161305ea17e172": {
          "model_module": "@jupyter-widgets/controls",
          "model_name": "FloatProgressModel",
          "state": {
            "_view_name": "ProgressView",
            "style": "IPY_MODEL_662027f0345e4abaad216be8afb87a37",
            "_dom_classes": [],
            "description": "100%",
            "_model_name": "FloatProgressModel",
            "bar_style": "success",
            "max": 406,
            "_view_module": "@jupyter-widgets/controls",
            "_model_module_version": "1.5.0",
            "value": 406,
            "_view_count": null,
            "_view_module_version": "1.5.0",
            "orientation": "horizontal",
            "min": 0,
            "description_tooltip": null,
            "_model_module": "@jupyter-widgets/controls",
            "layout": "IPY_MODEL_893afe936d4046c687417b8890bbf844"
          }
        },
        "c1986e592e9648ab80132850a49ad39b": {
          "model_module": "@jupyter-widgets/controls",
          "model_name": "HTMLModel",
          "state": {
            "_view_name": "HTMLView",
            "style": "IPY_MODEL_eb6c9009bded49d1828de99bec00422e",
            "_dom_classes": [],
            "description": "",
            "_model_name": "HTMLModel",
            "placeholder": "​",
            "_view_module": "@jupyter-widgets/controls",
            "_model_module_version": "1.5.0",
            "value": " 406/406 [00:01&lt;00:00, 267.69it/s]",
            "_view_count": null,
            "_view_module_version": "1.5.0",
            "description_tooltip": null,
            "_model_module": "@jupyter-widgets/controls",
            "layout": "IPY_MODEL_ae87cba4e3f34e22b8b8264e528861bc"
          }
        },
        "662027f0345e4abaad216be8afb87a37": {
          "model_module": "@jupyter-widgets/controls",
          "model_name": "ProgressStyleModel",
          "state": {
            "_view_name": "StyleView",
            "_model_name": "ProgressStyleModel",
            "description_width": "initial",
            "_view_module": "@jupyter-widgets/base",
            "_model_module_version": "1.5.0",
            "_view_count": null,
            "_view_module_version": "1.2.0",
            "bar_color": null,
            "_model_module": "@jupyter-widgets/controls"
          }
        },
        "893afe936d4046c687417b8890bbf844": {
          "model_module": "@jupyter-widgets/base",
          "model_name": "LayoutModel",
          "state": {
            "_view_name": "LayoutView",
            "grid_template_rows": null,
            "right": null,
            "justify_content": null,
            "_view_module": "@jupyter-widgets/base",
            "overflow": null,
            "_model_module_version": "1.2.0",
            "_view_count": null,
            "flex_flow": null,
            "width": null,
            "min_width": null,
            "border": null,
            "align_items": null,
            "bottom": null,
            "_model_module": "@jupyter-widgets/base",
            "top": null,
            "grid_column": null,
            "overflow_y": null,
            "overflow_x": null,
            "grid_auto_flow": null,
            "grid_area": null,
            "grid_template_columns": null,
            "flex": null,
            "_model_name": "LayoutModel",
            "justify_items": null,
            "grid_row": null,
            "max_height": null,
            "align_content": null,
            "visibility": null,
            "align_self": null,
            "height": null,
            "min_height": null,
            "padding": null,
            "grid_auto_rows": null,
            "grid_gap": null,
            "max_width": null,
            "order": null,
            "_view_module_version": "1.2.0",
            "grid_template_areas": null,
            "object_position": null,
            "object_fit": null,
            "grid_auto_columns": null,
            "margin": null,
            "display": null,
            "left": null
          }
        },
        "eb6c9009bded49d1828de99bec00422e": {
          "model_module": "@jupyter-widgets/controls",
          "model_name": "DescriptionStyleModel",
          "state": {
            "_view_name": "StyleView",
            "_model_name": "DescriptionStyleModel",
            "description_width": "",
            "_view_module": "@jupyter-widgets/base",
            "_model_module_version": "1.5.0",
            "_view_count": null,
            "_view_module_version": "1.2.0",
            "_model_module": "@jupyter-widgets/controls"
          }
        },
        "ae87cba4e3f34e22b8b8264e528861bc": {
          "model_module": "@jupyter-widgets/base",
          "model_name": "LayoutModel",
          "state": {
            "_view_name": "LayoutView",
            "grid_template_rows": null,
            "right": null,
            "justify_content": null,
            "_view_module": "@jupyter-widgets/base",
            "overflow": null,
            "_model_module_version": "1.2.0",
            "_view_count": null,
            "flex_flow": null,
            "width": null,
            "min_width": null,
            "border": null,
            "align_items": null,
            "bottom": null,
            "_model_module": "@jupyter-widgets/base",
            "top": null,
            "grid_column": null,
            "overflow_y": null,
            "overflow_x": null,
            "grid_auto_flow": null,
            "grid_area": null,
            "grid_template_columns": null,
            "flex": null,
            "_model_name": "LayoutModel",
            "justify_items": null,
            "grid_row": null,
            "max_height": null,
            "align_content": null,
            "visibility": null,
            "align_self": null,
            "height": null,
            "min_height": null,
            "padding": null,
            "grid_auto_rows": null,
            "grid_gap": null,
            "max_width": null,
            "order": null,
            "_view_module_version": "1.2.0",
            "grid_template_areas": null,
            "object_position": null,
            "object_fit": null,
            "grid_auto_columns": null,
            "margin": null,
            "display": null,
            "left": null
          }
        },
        "2a300bcf2a654f59b19b865452462daf": {
          "model_module": "@jupyter-widgets/controls",
          "model_name": "HBoxModel",
          "state": {
            "_view_name": "HBoxView",
            "_dom_classes": [],
            "_model_name": "HBoxModel",
            "_view_module": "@jupyter-widgets/controls",
            "_model_module_version": "1.5.0",
            "_view_count": null,
            "_view_module_version": "1.5.0",
            "box_style": "",
            "layout": "IPY_MODEL_f513337a21bf4b2bb773d50058928c90",
            "_model_module": "@jupyter-widgets/controls",
            "children": [
              "IPY_MODEL_2430c0c8e62249268056f1ec40c33b6e",
              "IPY_MODEL_f4370dcd5f724e798b0fbc3b4164c98b"
            ]
          }
        },
        "f513337a21bf4b2bb773d50058928c90": {
          "model_module": "@jupyter-widgets/base",
          "model_name": "LayoutModel",
          "state": {
            "_view_name": "LayoutView",
            "grid_template_rows": null,
            "right": null,
            "justify_content": null,
            "_view_module": "@jupyter-widgets/base",
            "overflow": null,
            "_model_module_version": "1.2.0",
            "_view_count": null,
            "flex_flow": null,
            "width": null,
            "min_width": null,
            "border": null,
            "align_items": null,
            "bottom": null,
            "_model_module": "@jupyter-widgets/base",
            "top": null,
            "grid_column": null,
            "overflow_y": null,
            "overflow_x": null,
            "grid_auto_flow": null,
            "grid_area": null,
            "grid_template_columns": null,
            "flex": null,
            "_model_name": "LayoutModel",
            "justify_items": null,
            "grid_row": null,
            "max_height": null,
            "align_content": null,
            "visibility": null,
            "align_self": null,
            "height": null,
            "min_height": null,
            "padding": null,
            "grid_auto_rows": null,
            "grid_gap": null,
            "max_width": null,
            "order": null,
            "_view_module_version": "1.2.0",
            "grid_template_areas": null,
            "object_position": null,
            "object_fit": null,
            "grid_auto_columns": null,
            "margin": null,
            "display": null,
            "left": null
          }
        },
        "2430c0c8e62249268056f1ec40c33b6e": {
          "model_module": "@jupyter-widgets/controls",
          "model_name": "FloatProgressModel",
          "state": {
            "_view_name": "ProgressView",
            "style": "IPY_MODEL_0fd7c04805e841e190ce9d4f4730e59f",
            "_dom_classes": [],
            "description": "100%",
            "_model_name": "FloatProgressModel",
            "bar_style": "success",
            "max": 46,
            "_view_module": "@jupyter-widgets/controls",
            "_model_module_version": "1.5.0",
            "value": 46,
            "_view_count": null,
            "_view_module_version": "1.5.0",
            "orientation": "horizontal",
            "min": 0,
            "description_tooltip": null,
            "_model_module": "@jupyter-widgets/controls",
            "layout": "IPY_MODEL_96b50f212dfa45c49f2b63bb2f5c9b01"
          }
        },
        "f4370dcd5f724e798b0fbc3b4164c98b": {
          "model_module": "@jupyter-widgets/controls",
          "model_name": "HTMLModel",
          "state": {
            "_view_name": "HTMLView",
            "style": "IPY_MODEL_c4ba8b519fe34eea88ed8d43cbfc6631",
            "_dom_classes": [],
            "description": "",
            "_model_name": "HTMLModel",
            "placeholder": "​",
            "_view_module": "@jupyter-widgets/controls",
            "_model_module_version": "1.5.0",
            "value": " 46/46 [00:00&lt;00:00, 77.42it/s]",
            "_view_count": null,
            "_view_module_version": "1.5.0",
            "description_tooltip": null,
            "_model_module": "@jupyter-widgets/controls",
            "layout": "IPY_MODEL_3738051637b046e8961e3c81e1afef35"
          }
        },
        "0fd7c04805e841e190ce9d4f4730e59f": {
          "model_module": "@jupyter-widgets/controls",
          "model_name": "ProgressStyleModel",
          "state": {
            "_view_name": "StyleView",
            "_model_name": "ProgressStyleModel",
            "description_width": "initial",
            "_view_module": "@jupyter-widgets/base",
            "_model_module_version": "1.5.0",
            "_view_count": null,
            "_view_module_version": "1.2.0",
            "bar_color": null,
            "_model_module": "@jupyter-widgets/controls"
          }
        },
        "96b50f212dfa45c49f2b63bb2f5c9b01": {
          "model_module": "@jupyter-widgets/base",
          "model_name": "LayoutModel",
          "state": {
            "_view_name": "LayoutView",
            "grid_template_rows": null,
            "right": null,
            "justify_content": null,
            "_view_module": "@jupyter-widgets/base",
            "overflow": null,
            "_model_module_version": "1.2.0",
            "_view_count": null,
            "flex_flow": null,
            "width": null,
            "min_width": null,
            "border": null,
            "align_items": null,
            "bottom": null,
            "_model_module": "@jupyter-widgets/base",
            "top": null,
            "grid_column": null,
            "overflow_y": null,
            "overflow_x": null,
            "grid_auto_flow": null,
            "grid_area": null,
            "grid_template_columns": null,
            "flex": null,
            "_model_name": "LayoutModel",
            "justify_items": null,
            "grid_row": null,
            "max_height": null,
            "align_content": null,
            "visibility": null,
            "align_self": null,
            "height": null,
            "min_height": null,
            "padding": null,
            "grid_auto_rows": null,
            "grid_gap": null,
            "max_width": null,
            "order": null,
            "_view_module_version": "1.2.0",
            "grid_template_areas": null,
            "object_position": null,
            "object_fit": null,
            "grid_auto_columns": null,
            "margin": null,
            "display": null,
            "left": null
          }
        },
        "c4ba8b519fe34eea88ed8d43cbfc6631": {
          "model_module": "@jupyter-widgets/controls",
          "model_name": "DescriptionStyleModel",
          "state": {
            "_view_name": "StyleView",
            "_model_name": "DescriptionStyleModel",
            "description_width": "",
            "_view_module": "@jupyter-widgets/base",
            "_model_module_version": "1.5.0",
            "_view_count": null,
            "_view_module_version": "1.2.0",
            "_model_module": "@jupyter-widgets/controls"
          }
        },
        "3738051637b046e8961e3c81e1afef35": {
          "model_module": "@jupyter-widgets/base",
          "model_name": "LayoutModel",
          "state": {
            "_view_name": "LayoutView",
            "grid_template_rows": null,
            "right": null,
            "justify_content": null,
            "_view_module": "@jupyter-widgets/base",
            "overflow": null,
            "_model_module_version": "1.2.0",
            "_view_count": null,
            "flex_flow": null,
            "width": null,
            "min_width": null,
            "border": null,
            "align_items": null,
            "bottom": null,
            "_model_module": "@jupyter-widgets/base",
            "top": null,
            "grid_column": null,
            "overflow_y": null,
            "overflow_x": null,
            "grid_auto_flow": null,
            "grid_area": null,
            "grid_template_columns": null,
            "flex": null,
            "_model_name": "LayoutModel",
            "justify_items": null,
            "grid_row": null,
            "max_height": null,
            "align_content": null,
            "visibility": null,
            "align_self": null,
            "height": null,
            "min_height": null,
            "padding": null,
            "grid_auto_rows": null,
            "grid_gap": null,
            "max_width": null,
            "order": null,
            "_view_module_version": "1.2.0",
            "grid_template_areas": null,
            "object_position": null,
            "object_fit": null,
            "grid_auto_columns": null,
            "margin": null,
            "display": null,
            "left": null
          }
        },
        "8419ad3c94a941c194e3d74ac8eae3c9": {
          "model_module": "@jupyter-widgets/controls",
          "model_name": "HBoxModel",
          "state": {
            "_view_name": "HBoxView",
            "_dom_classes": [],
            "_model_name": "HBoxModel",
            "_view_module": "@jupyter-widgets/controls",
            "_model_module_version": "1.5.0",
            "_view_count": null,
            "_view_module_version": "1.5.0",
            "box_style": "",
            "layout": "IPY_MODEL_8748977e5c4d44be876b7318dd47737f",
            "_model_module": "@jupyter-widgets/controls",
            "children": [
              "IPY_MODEL_c3e1ce7275d34544bcde747351ce5313",
              "IPY_MODEL_776907ab85bc4aef9c8c0cd700667587"
            ]
          }
        },
        "8748977e5c4d44be876b7318dd47737f": {
          "model_module": "@jupyter-widgets/base",
          "model_name": "LayoutModel",
          "state": {
            "_view_name": "LayoutView",
            "grid_template_rows": null,
            "right": null,
            "justify_content": null,
            "_view_module": "@jupyter-widgets/base",
            "overflow": null,
            "_model_module_version": "1.2.0",
            "_view_count": null,
            "flex_flow": null,
            "width": null,
            "min_width": null,
            "border": null,
            "align_items": null,
            "bottom": null,
            "_model_module": "@jupyter-widgets/base",
            "top": null,
            "grid_column": null,
            "overflow_y": null,
            "overflow_x": null,
            "grid_auto_flow": null,
            "grid_area": null,
            "grid_template_columns": null,
            "flex": null,
            "_model_name": "LayoutModel",
            "justify_items": null,
            "grid_row": null,
            "max_height": null,
            "align_content": null,
            "visibility": null,
            "align_self": null,
            "height": null,
            "min_height": null,
            "padding": null,
            "grid_auto_rows": null,
            "grid_gap": null,
            "max_width": null,
            "order": null,
            "_view_module_version": "1.2.0",
            "grid_template_areas": null,
            "object_position": null,
            "object_fit": null,
            "grid_auto_columns": null,
            "margin": null,
            "display": null,
            "left": null
          }
        },
        "c3e1ce7275d34544bcde747351ce5313": {
          "model_module": "@jupyter-widgets/controls",
          "model_name": "FloatProgressModel",
          "state": {
            "_view_name": "ProgressView",
            "style": "IPY_MODEL_1577ee95dfd2449fb75cb89ad4ad3bab",
            "_dom_classes": [],
            "description": "100%",
            "_model_name": "FloatProgressModel",
            "bar_style": "success",
            "max": 114,
            "_view_module": "@jupyter-widgets/controls",
            "_model_module_version": "1.5.0",
            "value": 114,
            "_view_count": null,
            "_view_module_version": "1.5.0",
            "orientation": "horizontal",
            "min": 0,
            "description_tooltip": null,
            "_model_module": "@jupyter-widgets/controls",
            "layout": "IPY_MODEL_fc1bce9b670944b0a130862e22ebb821"
          }
        },
        "776907ab85bc4aef9c8c0cd700667587": {
          "model_module": "@jupyter-widgets/controls",
          "model_name": "HTMLModel",
          "state": {
            "_view_name": "HTMLView",
            "style": "IPY_MODEL_c82c2685c3fb403191f6f4d0f532511a",
            "_dom_classes": [],
            "description": "",
            "_model_name": "HTMLModel",
            "placeholder": "​",
            "_view_module": "@jupyter-widgets/controls",
            "_model_module_version": "1.5.0",
            "value": " 114/114 [00:00&lt;00:00, 208.03it/s]",
            "_view_count": null,
            "_view_module_version": "1.5.0",
            "description_tooltip": null,
            "_model_module": "@jupyter-widgets/controls",
            "layout": "IPY_MODEL_76db5aaf384743ceb0d59f04e453d323"
          }
        },
        "1577ee95dfd2449fb75cb89ad4ad3bab": {
          "model_module": "@jupyter-widgets/controls",
          "model_name": "ProgressStyleModel",
          "state": {
            "_view_name": "StyleView",
            "_model_name": "ProgressStyleModel",
            "description_width": "initial",
            "_view_module": "@jupyter-widgets/base",
            "_model_module_version": "1.5.0",
            "_view_count": null,
            "_view_module_version": "1.2.0",
            "bar_color": null,
            "_model_module": "@jupyter-widgets/controls"
          }
        },
        "fc1bce9b670944b0a130862e22ebb821": {
          "model_module": "@jupyter-widgets/base",
          "model_name": "LayoutModel",
          "state": {
            "_view_name": "LayoutView",
            "grid_template_rows": null,
            "right": null,
            "justify_content": null,
            "_view_module": "@jupyter-widgets/base",
            "overflow": null,
            "_model_module_version": "1.2.0",
            "_view_count": null,
            "flex_flow": null,
            "width": null,
            "min_width": null,
            "border": null,
            "align_items": null,
            "bottom": null,
            "_model_module": "@jupyter-widgets/base",
            "top": null,
            "grid_column": null,
            "overflow_y": null,
            "overflow_x": null,
            "grid_auto_flow": null,
            "grid_area": null,
            "grid_template_columns": null,
            "flex": null,
            "_model_name": "LayoutModel",
            "justify_items": null,
            "grid_row": null,
            "max_height": null,
            "align_content": null,
            "visibility": null,
            "align_self": null,
            "height": null,
            "min_height": null,
            "padding": null,
            "grid_auto_rows": null,
            "grid_gap": null,
            "max_width": null,
            "order": null,
            "_view_module_version": "1.2.0",
            "grid_template_areas": null,
            "object_position": null,
            "object_fit": null,
            "grid_auto_columns": null,
            "margin": null,
            "display": null,
            "left": null
          }
        },
        "c82c2685c3fb403191f6f4d0f532511a": {
          "model_module": "@jupyter-widgets/controls",
          "model_name": "DescriptionStyleModel",
          "state": {
            "_view_name": "StyleView",
            "_model_name": "DescriptionStyleModel",
            "description_width": "",
            "_view_module": "@jupyter-widgets/base",
            "_model_module_version": "1.5.0",
            "_view_count": null,
            "_view_module_version": "1.2.0",
            "_model_module": "@jupyter-widgets/controls"
          }
        },
        "76db5aaf384743ceb0d59f04e453d323": {
          "model_module": "@jupyter-widgets/base",
          "model_name": "LayoutModel",
          "state": {
            "_view_name": "LayoutView",
            "grid_template_rows": null,
            "right": null,
            "justify_content": null,
            "_view_module": "@jupyter-widgets/base",
            "overflow": null,
            "_model_module_version": "1.2.0",
            "_view_count": null,
            "flex_flow": null,
            "width": null,
            "min_width": null,
            "border": null,
            "align_items": null,
            "bottom": null,
            "_model_module": "@jupyter-widgets/base",
            "top": null,
            "grid_column": null,
            "overflow_y": null,
            "overflow_x": null,
            "grid_auto_flow": null,
            "grid_area": null,
            "grid_template_columns": null,
            "flex": null,
            "_model_name": "LayoutModel",
            "justify_items": null,
            "grid_row": null,
            "max_height": null,
            "align_content": null,
            "visibility": null,
            "align_self": null,
            "height": null,
            "min_height": null,
            "padding": null,
            "grid_auto_rows": null,
            "grid_gap": null,
            "max_width": null,
            "order": null,
            "_view_module_version": "1.2.0",
            "grid_template_areas": null,
            "object_position": null,
            "object_fit": null,
            "grid_auto_columns": null,
            "margin": null,
            "display": null,
            "left": null
          }
        }
      }
    },
    "accelerator": "GPU"
  },
  "cells": [
    {
      "cell_type": "code",
      "metadata": {
        "id": "5Qm6MICV_Sgv",
        "colab_type": "code",
        "colab": {
          "base_uri": "https://localhost:8080/",
          "height": 35
        },
        "outputId": "df25c0c9-0e3e-40ec-bf50-aac691082e36"
      },
      "source": [
        "# mount google drive\n",
        "from google.colab import drive\n",
        "drive.mount('/content/drive')"
      ],
      "execution_count": null,
      "outputs": [
        {
          "output_type": "stream",
          "text": [
            "Drive already mounted at /content/drive; to attempt to forcibly remount, call drive.mount(\"/content/drive\", force_remount=True).\n"
          ],
          "name": "stdout"
        }
      ]
    },
    {
      "cell_type": "code",
      "metadata": {
        "id": "QxFsKMbO_kQV",
        "colab_type": "code",
        "colab": {}
      },
      "source": [
        "# set path for files\n",
        "path = '/content/drive/My Drive/thesis_dataset/'"
      ],
      "execution_count": null,
      "outputs": []
    },
    {
      "cell_type": "code",
      "metadata": {
        "id": "9gzOw7VmeXJg",
        "colab_type": "code",
        "colab": {
          "base_uri": "https://localhost:8080/",
          "height": 641
        },
        "outputId": "ce224592-2833-450e-8f1d-7d3a7bad849a"
      },
      "source": [
        "# install required packages\n",
        "!pip install transformers"
      ],
      "execution_count": null,
      "outputs": [
        {
          "output_type": "stream",
          "text": [
            "Collecting transformers\n",
            "\u001b[?25l  Downloading https://files.pythonhosted.org/packages/ae/05/c8c55b600308dc04e95100dc8ad8a244dd800fe75dfafcf1d6348c6f6209/transformers-3.1.0-py3-none-any.whl (884kB)\n",
            "\u001b[K     |████████████████████████████████| 890kB 3.4MB/s \n",
            "\u001b[?25hRequirement already satisfied: regex!=2019.12.17 in /usr/local/lib/python3.6/dist-packages (from transformers) (2019.12.20)\n",
            "Requirement already satisfied: dataclasses; python_version < \"3.7\" in /usr/local/lib/python3.6/dist-packages (from transformers) (0.7)\n",
            "Requirement already satisfied: filelock in /usr/local/lib/python3.6/dist-packages (from transformers) (3.0.12)\n",
            "Collecting sacremoses\n",
            "\u001b[?25l  Downloading https://files.pythonhosted.org/packages/7d/34/09d19aff26edcc8eb2a01bed8e98f13a1537005d31e95233fd48216eed10/sacremoses-0.0.43.tar.gz (883kB)\n",
            "\u001b[K     |████████████████████████████████| 890kB 12.7MB/s \n",
            "\u001b[?25hRequirement already satisfied: packaging in /usr/local/lib/python3.6/dist-packages (from transformers) (20.4)\n",
            "Requirement already satisfied: requests in /usr/local/lib/python3.6/dist-packages (from transformers) (2.23.0)\n",
            "Requirement already satisfied: numpy in /usr/local/lib/python3.6/dist-packages (from transformers) (1.18.5)\n",
            "Collecting sentencepiece!=0.1.92\n",
            "\u001b[?25l  Downloading https://files.pythonhosted.org/packages/d4/a4/d0a884c4300004a78cca907a6ff9a5e9fe4f090f5d95ab341c53d28cbc58/sentencepiece-0.1.91-cp36-cp36m-manylinux1_x86_64.whl (1.1MB)\n",
            "\u001b[K     |████████████████████████████████| 1.1MB 26.6MB/s \n",
            "\u001b[?25hRequirement already satisfied: tqdm>=4.27 in /usr/local/lib/python3.6/dist-packages (from transformers) (4.41.1)\n",
            "Collecting tokenizers==0.8.1.rc2\n",
            "\u001b[?25l  Downloading https://files.pythonhosted.org/packages/80/83/8b9fccb9e48eeb575ee19179e2bdde0ee9a1904f97de5f02d19016b8804f/tokenizers-0.8.1rc2-cp36-cp36m-manylinux1_x86_64.whl (3.0MB)\n",
            "\u001b[K     |████████████████████████████████| 3.0MB 34.0MB/s \n",
            "\u001b[?25hRequirement already satisfied: six in /usr/local/lib/python3.6/dist-packages (from sacremoses->transformers) (1.15.0)\n",
            "Requirement already satisfied: click in /usr/local/lib/python3.6/dist-packages (from sacremoses->transformers) (7.1.2)\n",
            "Requirement already satisfied: joblib in /usr/local/lib/python3.6/dist-packages (from sacremoses->transformers) (0.16.0)\n",
            "Requirement already satisfied: pyparsing>=2.0.2 in /usr/local/lib/python3.6/dist-packages (from packaging->transformers) (2.4.7)\n",
            "Requirement already satisfied: certifi>=2017.4.17 in /usr/local/lib/python3.6/dist-packages (from requests->transformers) (2020.6.20)\n",
            "Requirement already satisfied: chardet<4,>=3.0.2 in /usr/local/lib/python3.6/dist-packages (from requests->transformers) (3.0.4)\n",
            "Requirement already satisfied: idna<3,>=2.5 in /usr/local/lib/python3.6/dist-packages (from requests->transformers) (2.10)\n",
            "Requirement already satisfied: urllib3!=1.25.0,!=1.25.1,<1.26,>=1.21.1 in /usr/local/lib/python3.6/dist-packages (from requests->transformers) (1.24.3)\n",
            "Building wheels for collected packages: sacremoses\n",
            "  Building wheel for sacremoses (setup.py) ... \u001b[?25l\u001b[?25hdone\n",
            "  Created wheel for sacremoses: filename=sacremoses-0.0.43-cp36-none-any.whl size=893257 sha256=c4fb9d807c2b11edcd0696a7f58136bad6d7b87d664136c9a489fe7c03ec2988\n",
            "  Stored in directory: /root/.cache/pip/wheels/29/3c/fd/7ce5c3f0666dab31a50123635e6fb5e19ceb42ce38d4e58f45\n",
            "Successfully built sacremoses\n",
            "Installing collected packages: sacremoses, sentencepiece, tokenizers, transformers\n",
            "Successfully installed sacremoses-0.0.43 sentencepiece-0.1.91 tokenizers-0.8.1rc2 transformers-3.1.0\n"
          ],
          "name": "stdout"
        }
      ]
    },
    {
      "cell_type": "code",
      "metadata": {
        "id": "Z6hcpcUONXm1",
        "colab_type": "code",
        "colab": {
          "base_uri": "https://localhost:8080/",
          "height": 35
        },
        "outputId": "f4a16bf3-c040-4940-8728-e786324f4271"
      },
      "source": [
        "# import all required packages/modules\n",
        "from tqdm.notebook import tqdm\n",
        "import numpy as np\n",
        "import pandas as pd\n",
        "import tensorflow as tf\n",
        "from sklearn.model_selection import train_test_split\n",
        "from transformers import BertTokenizer\n",
        "from transformers import TFBertModel, BertConfig\n",
        "from keras.preprocessing.sequence import pad_sequences\n",
        "from keras.utils import to_categorical\n",
        "from keras.models import Model, Input\n",
        "import pickle\n",
        "tf.__version__"
      ],
      "execution_count": null,
      "outputs": [
        {
          "output_type": "execute_result",
          "data": {
            "application/vnd.google.colaboratory.intrinsic+json": {
              "type": "string"
            },
            "text/plain": [
              "'2.3.0'"
            ]
          },
          "metadata": {
            "tags": []
          },
          "execution_count": 3
        }
      ]
    },
    {
      "cell_type": "code",
      "metadata": {
        "id": "MPc_D4l37s8L",
        "colab_type": "code",
        "colab": {}
      },
      "source": [
        "# define constants\n",
        "MAX_TOKENS = 32\n",
        "BERT_PRETRAIN_MODEL_NAME = \"bert-base-cased\""
      ],
      "execution_count": null,
      "outputs": []
    },
    {
      "cell_type": "code",
      "metadata": {
        "id": "-7OdACJd0Pj4",
        "colab_type": "code",
        "colab": {
          "base_uri": "https://localhost:8080/",
          "height": 151
        },
        "outputId": "1d0b1996-025c-4788-810c-dedd3a2888cd"
      },
      "source": [
        "# read data from excel\n",
        "df = pd.read_excel(path+\"All_Questions_V1.xlsx\",'data', encoding='utf-8') \n",
        "df.head(1)"
      ],
      "execution_count": null,
      "outputs": [
        {
          "output_type": "execute_result",
          "data": {
            "text/html": [
              "<div>\n",
              "<style scoped>\n",
              "    .dataframe tbody tr th:only-of-type {\n",
              "        vertical-align: middle;\n",
              "    }\n",
              "\n",
              "    .dataframe tbody tr th {\n",
              "        vertical-align: top;\n",
              "    }\n",
              "\n",
              "    .dataframe thead th {\n",
              "        text-align: right;\n",
              "    }\n",
              "</style>\n",
              "<table border=\"1\" class=\"dataframe\">\n",
              "  <thead>\n",
              "    <tr style=\"text-align: right;\">\n",
              "      <th></th>\n",
              "      <th>SlNo</th>\n",
              "      <th>Question</th>\n",
              "      <th>Relation</th>\n",
              "      <th>NER_Tag</th>\n",
              "      <th>Q_Len</th>\n",
              "      <th>T_Len</th>\n",
              "      <th>Subject</th>\n",
              "      <th>Subject_old</th>\n",
              "      <th>Subject_URI_old</th>\n",
              "      <th>Subject_URI</th>\n",
              "      <th>Relation_URI</th>\n",
              "    </tr>\n",
              "  </thead>\n",
              "  <tbody>\n",
              "    <tr>\n",
              "      <th>0</th>\n",
              "      <td>1</td>\n",
              "      <td>what are the brand names of Metipranolol</td>\n",
              "      <td>brand</td>\n",
              "      <td>O O O O O O B-E</td>\n",
              "      <td>7</td>\n",
              "      <td>7</td>\n",
              "      <td>Metipranolol</td>\n",
              "      <td>Metipranolol</td>\n",
              "      <td>http://bio2rdf.org/drugbank:DB01214</td>\n",
              "      <td>http://bio2rdf.org/drugbank:DB01214</td>\n",
              "      <td>http://bio2rdf.org/drugbank_vocabulary:brand</td>\n",
              "    </tr>\n",
              "  </tbody>\n",
              "</table>\n",
              "</div>"
            ],
            "text/plain": [
              "   SlNo  ...                                  Relation_URI\n",
              "0     1  ...  http://bio2rdf.org/drugbank_vocabulary:brand\n",
              "\n",
              "[1 rows x 11 columns]"
            ]
          },
          "metadata": {
            "tags": []
          },
          "execution_count": 6
        }
      ]
    },
    {
      "cell_type": "code",
      "metadata": {
        "id": "ud3L9r_V7efh",
        "colab_type": "code",
        "colab": {
          "base_uri": "https://localhost:8080/",
          "height": 35
        },
        "outputId": "29c9c238-cd2f-4458-f5ce-e6bfd7bb42e2"
      },
      "source": [
        "# split the full dataset into train, valid and test dataset\n",
        "rest, test = train_test_split(df, test_size=0.2, random_state=0, \n",
        "                               stratify=df['Relation'])\n",
        "train, valid = train_test_split(rest, test_size=0.1, random_state=0, \n",
        "                               stratify=rest['Relation'])\n",
        "train_size, test_size, validation_size = len(train), len(test), len(valid)\n",
        "print(f'Train:{train_size}, Test: {test_size}, Validation: {validation_size}')"
      ],
      "execution_count": null,
      "outputs": [
        {
          "output_type": "stream",
          "text": [
            "Train:406, Test: 114, Validation: 46\n"
          ],
          "name": "stdout"
        }
      ]
    },
    {
      "cell_type": "code",
      "metadata": {
        "id": "dw9yUDfhPhzC",
        "colab_type": "code",
        "colab": {}
      },
      "source": [
        "# create instance of tokenzier from BERT pretrained model\n",
        "tokenizer = BertTokenizer.from_pretrained(BERT_PRETRAIN_MODEL_NAME, do_lower_case=False)"
      ],
      "execution_count": null,
      "outputs": []
    },
    {
      "cell_type": "code",
      "metadata": {
        "id": "6R9Ycj_wYde9",
        "colab_type": "code",
        "colab": {}
      },
      "source": [
        "# process the question phrase to return tokens list\n",
        "def process_questions(questions, tokenizer):\n",
        "    tokens_list = []\n",
        "    attn_masks_list = []\n",
        "    for question in tqdm(questions):\n",
        "        tokens = tokenizer.encode(question, max_length = MAX_TOKENS, truncation=True, add_special_tokens = True)\n",
        "        tokens_list.append(tokens)\n",
        "    # here, we use post padding for BERT. later, in embeddings prepading for LSTM inputs\n",
        "    padded_tokens_list = pad_sequences(tokens_list, maxlen=MAX_TOKENS, truncating=\"post\", padding=\"post\", dtype=\"long\", value=0)\n",
        "\n",
        "    # create atttion masks\n",
        "    for tokens in padded_tokens_list:\n",
        "        attn_masks = [int(token > 0) for token in tokens]\n",
        "        attn_masks_list.append(attn_masks)\n",
        "\n",
        "    return padded_tokens_list, np.asarray(attn_masks_list)"
      ],
      "execution_count": null,
      "outputs": []
    },
    {
      "cell_type": "code",
      "metadata": {
        "id": "0bDa0F90ZA8M",
        "colab_type": "code",
        "colab": {
          "base_uri": "https://localhost:8080/",
          "height": 165,
          "referenced_widgets": [
            "deb394683c6d43099f9c65f8218f8869",
            "217c1a12c2d444a7a918fa91ac2a0f11",
            "02c5719701944477b5161305ea17e172",
            "c1986e592e9648ab80132850a49ad39b",
            "662027f0345e4abaad216be8afb87a37",
            "893afe936d4046c687417b8890bbf844",
            "eb6c9009bded49d1828de99bec00422e",
            "ae87cba4e3f34e22b8b8264e528861bc",
            "2a300bcf2a654f59b19b865452462daf",
            "f513337a21bf4b2bb773d50058928c90",
            "2430c0c8e62249268056f1ec40c33b6e",
            "f4370dcd5f724e798b0fbc3b4164c98b",
            "0fd7c04805e841e190ce9d4f4730e59f",
            "96b50f212dfa45c49f2b63bb2f5c9b01",
            "c4ba8b519fe34eea88ed8d43cbfc6631",
            "3738051637b046e8961e3c81e1afef35",
            "8419ad3c94a941c194e3d74ac8eae3c9",
            "8748977e5c4d44be876b7318dd47737f",
            "c3e1ce7275d34544bcde747351ce5313",
            "776907ab85bc4aef9c8c0cd700667587",
            "1577ee95dfd2449fb75cb89ad4ad3bab",
            "fc1bce9b670944b0a130862e22ebb821",
            "c82c2685c3fb403191f6f4d0f532511a",
            "76db5aaf384743ceb0d59f04e453d323"
          ]
        },
        "outputId": "4ce5887b-bea4-4aff-da90-2cb1aa21a709"
      },
      "source": [
        "# process question phrases to get input_ids and attention_masks for BERT input\n",
        "train_input_ids, train_attention_masks  = process_questions(train['Question'], tokenizer)\n",
        "valid_input_ids, valid_attention_masks = process_questions(valid['Question'], tokenizer)\n",
        "test_input_ids, test_attention_masks = process_questions(test['Question'], tokenizer)"
      ],
      "execution_count": null,
      "outputs": [
        {
          "output_type": "display_data",
          "data": {
            "application/vnd.jupyter.widget-view+json": {
              "model_id": "deb394683c6d43099f9c65f8218f8869",
              "version_minor": 0,
              "version_major": 2
            },
            "text/plain": [
              "HBox(children=(FloatProgress(value=0.0, max=406.0), HTML(value='')))"
            ]
          },
          "metadata": {
            "tags": []
          }
        },
        {
          "output_type": "stream",
          "text": [
            "\n"
          ],
          "name": "stdout"
        },
        {
          "output_type": "display_data",
          "data": {
            "application/vnd.jupyter.widget-view+json": {
              "model_id": "2a300bcf2a654f59b19b865452462daf",
              "version_minor": 0,
              "version_major": 2
            },
            "text/plain": [
              "HBox(children=(FloatProgress(value=0.0, max=46.0), HTML(value='')))"
            ]
          },
          "metadata": {
            "tags": []
          }
        },
        {
          "output_type": "stream",
          "text": [
            "\n"
          ],
          "name": "stdout"
        },
        {
          "output_type": "display_data",
          "data": {
            "application/vnd.jupyter.widget-view+json": {
              "model_id": "8419ad3c94a941c194e3d74ac8eae3c9",
              "version_minor": 0,
              "version_major": 2
            },
            "text/plain": [
              "HBox(children=(FloatProgress(value=0.0, max=114.0), HTML(value='')))"
            ]
          },
          "metadata": {
            "tags": []
          }
        },
        {
          "output_type": "stream",
          "text": [
            "\n"
          ],
          "name": "stdout"
        }
      ]
    },
    {
      "cell_type": "code",
      "metadata": {
        "id": "T9T5k3yZUS53",
        "colab_type": "code",
        "colab": {
          "base_uri": "https://localhost:8080/",
          "height": 124
        },
        "outputId": "e3d6a2e9-b309-469e-cf58-9537af560210"
      },
      "source": [
        "# create model from pretrained BERT model\n",
        "config_params = BertConfig.from_pretrained(BERT_PRETRAIN_MODEL_NAME)\n",
        "config_params.output_hidden_states=True\n",
        "model = TFBertModel.from_pretrained(BERT_PRETRAIN_MODEL_NAME, config = config_params)"
      ],
      "execution_count": null,
      "outputs": [
        {
          "output_type": "stream",
          "text": [
            "Some weights of the model checkpoint at bert-base-cased were not used when initializing TFBertModel: ['mlm___cls', 'nsp___cls']\n",
            "- This IS expected if you are initializing TFBertModel from the checkpoint of a model trained on another task or with another architecture (e.g. initializing a BertForSequenceClassification model from a BertForPretraining model).\n",
            "- This IS NOT expected if you are initializing TFBertModel from the checkpoint of a model that you expect to be exactly identical (initializing a BertForSequenceClassification model from a BertForSequenceClassification model).\n",
            "All the weights of TFBertModel were initialized from the model checkpoint at bert-base-cased.\n",
            "If your task is similar to the task the model of the checkpoint was trained on, you can already use TFBertModel for predictions without further training.\n"
          ],
          "name": "stderr"
        }
      ]
    },
    {
      "cell_type": "code",
      "metadata": {
        "id": "b3-VTCVIFVh2",
        "colab_type": "code",
        "colab": {}
      },
      "source": [
        "# obtain outputs from BERT model\n",
        "train_outputs = model({\"input_ids\": train_input_ids, \"attention_mask\": train_attention_masks})                    \n",
        "valid_outputs = model({\"input_ids\": valid_input_ids, \"attention_mask\": valid_attention_masks})\n",
        "test_outputs = model({\"input_ids\": test_input_ids, \"attention_mask\": test_attention_masks})"
      ],
      "execution_count": null,
      "outputs": []
    },
    {
      "cell_type": "code",
      "metadata": {
        "id": "F9XCDIlyMuiD",
        "colab_type": "code",
        "colab": {}
      },
      "source": [
        "# extract hidden status from BERT output\n",
        "train_hidden_states = train_outputs[2][1:]\n",
        "valid_hidden_states = valid_outputs[2][1:]\n",
        "test_hidden_states = test_outputs[2][1:]"
      ],
      "execution_count": null,
      "outputs": []
    },
    {
      "cell_type": "code",
      "metadata": {
        "id": "hfTLJOmHzJCT",
        "colab_type": "code",
        "colab": {}
      },
      "source": [
        "# function to extract word embeddings from hidden\n",
        "def get_embeddings(df_data, input_ids, hidden_states):\n",
        "  new_sentences = []\n",
        "  embeddings = []\n",
        "  for idx_sent, input_id in enumerate(input_ids):\n",
        "    sent_len = len(df_data.iloc[idx_sent]['Question'].split())\n",
        "    pad_len = MAX_TOKENS - sent_len\n",
        "    tokens = tokenizer.convert_ids_to_tokens(input_id)\n",
        "    new_tokens = []\n",
        "    embedding = []\n",
        "    for idx_tkn, token in enumerate(tokens):\n",
        "      if token not in [\"[CLS]\", \"[SEP]\", \"[PAD]\"]:\n",
        "        # Join word pieces\n",
        "        # Create embeddings by summing the hidden states\n",
        "        if token.startswith(\"##\"):\n",
        "            new_tokens[-1] = new_tokens[-1] + token[2:]\n",
        "            embedding[-1] = (embedding[-1] + hidden_states[-1][idx_sent,idx_tkn+1]+\n",
        "                              hidden_states[-2][idx_sent,idx_tkn+1]+\n",
        "                              hidden_states[-3][idx_sent,idx_tkn+1]+\n",
        "                              hidden_states[-4][idx_sent,idx_tkn+1]).numpy().tolist()\n",
        "        else:\n",
        "            new_tokens.append(token)\n",
        "            embedding.append((hidden_states[-1][idx_sent,idx_tkn+1]+\n",
        "                              hidden_states[-2][idx_sent,idx_tkn+1]+\n",
        "                              hidden_states[-3][idx_sent,idx_tkn+1]+\n",
        "                              hidden_states[-4][idx_sent,idx_tkn+1]).numpy().tolist())\n",
        "      else:\n",
        "        pass\n",
        "    new_embed = [] # paddings of zeros for embeddings\n",
        "    for i in range(MAX_TOKENS-len(embedding)):\n",
        "      new_embed.append(np.zeros(shape=(768,)).tolist())\n",
        "    new_embed.extend(embedding)\n",
        "    new_sentences.append(new_tokens)\n",
        "    embeddings.append(new_embed)\n",
        "  return new_sentences, embeddings"
      ],
      "execution_count": null,
      "outputs": []
    },
    {
      "cell_type": "code",
      "metadata": {
        "id": "lxTviHBx9dkk",
        "colab_type": "code",
        "colab": {}
      },
      "source": [
        "# get embeddings from train, valid and test datasets\n",
        "train_sentences, train_embeddings = get_embeddings(train, train_input_ids, train_hidden_states)\n",
        "valid_sentences, valid_embeddings = get_embeddings(valid, valid_input_ids, valid_hidden_states)\n",
        "test_sentences, test_embeddings = get_embeddings(test, test_input_ids, test_hidden_states)"
      ],
      "execution_count": null,
      "outputs": []
    },
    {
      "cell_type": "code",
      "metadata": {
        "id": "vr4OkDlo88iw",
        "colab_type": "code",
        "colab": {}
      },
      "source": [
        "# function to write using pickle\n",
        "def to_pickle(file_name, data_strcuture_name):\n",
        "  outfile = open(path+file_name,'wb')\n",
        "  pickle.dump(data_strcuture_name,outfile)\n",
        "  outfile.close()"
      ],
      "execution_count": null,
      "outputs": []
    },
    {
      "cell_type": "code",
      "metadata": {
        "id": "CCuItZQT9Rle",
        "colab_type": "code",
        "colab": {}
      },
      "source": [
        "# export embeddings to pickle file\n",
        "to_pickle('train_embeddings_file_v2', train_embeddings)\n",
        "to_pickle('valid_embeddings_file_v2', valid_embeddings)\n",
        "to_pickle('test_embeddings_file_v2', test_embeddings)"
      ],
      "execution_count": null,
      "outputs": []
    },
    {
      "cell_type": "code",
      "metadata": {
        "id": "JAaOEUQ_-7HR",
        "colab_type": "code",
        "colab": {
          "base_uri": "https://localhost:8080/",
          "height": 35
        },
        "outputId": "5d5e7e13-a96a-4907-c13c-27795b56da68"
      },
      "source": [
        "# define NER_TAGs\n",
        "tags = ['O', 'B-E', 'I-E', 'PAD']\n",
        "tag_dict = {t: i for i, t in enumerate(tags)}\n",
        "num_tags = len(tags); num_tags  "
      ],
      "execution_count": null,
      "outputs": [
        {
          "output_type": "execute_result",
          "data": {
            "text/plain": [
              "4"
            ]
          },
          "metadata": {
            "tags": []
          },
          "execution_count": 18
        }
      ]
    },
    {
      "cell_type": "code",
      "metadata": {
        "id": "91e6lE-h_I3b",
        "colab_type": "code",
        "colab": {}
      },
      "source": [
        "# function to process labels and add padding\n",
        "def get_labels(df_data,max_len):\n",
        "  labels = [[label for label in tag.split()] for tag in df_data['NER_Tag'].values]\n",
        "  targets = [[tag_dict[id] for id in label] for label in labels]\n",
        "  padded_targets = pad_sequences(maxlen=max_len, sequences=targets, padding=\"pre\", value=tag_dict[\"PAD\"])\n",
        "  target_labels = [to_categorical(target, num_classes=num_tags) for target in padded_targets]\n",
        "  return target_labels"
      ],
      "execution_count": null,
      "outputs": []
    },
    {
      "cell_type": "code",
      "metadata": {
        "id": "AlYS7G_n_fdW",
        "colab_type": "code",
        "colab": {}
      },
      "source": [
        "# get target labels for train, valid and test datasets\n",
        "y_train = get_labels(train, MAX_TOKENS)\n",
        "y_valid = get_labels(valid, MAX_TOKENS)\n",
        "y_test = get_labels(test, MAX_TOKENS)"
      ],
      "execution_count": null,
      "outputs": []
    },
    {
      "cell_type": "code",
      "metadata": {
        "id": "g4YZgALE_eCA",
        "colab_type": "code",
        "colab": {}
      },
      "source": [
        "# export target labels to pickle file\n",
        "to_pickle('y_train_file_v2', y_train)\n",
        "to_pickle('y_valid_file_v2', y_valid)\n",
        "to_pickle('y_test_file_v2', y_test)"
      ],
      "execution_count": null,
      "outputs": []
    },
    {
      "cell_type": "code",
      "metadata": {
        "id": "QH1SqYGMBWIV",
        "colab_type": "code",
        "colab": {}
      },
      "source": [
        "# check embeddings are in right dimension\n",
        "for v in valid_embeddings:\n",
        "    for e in v:\n",
        "        if len(e)-768 != 0:\n",
        "          print('error')\n",
        "  "
      ],
      "execution_count": null,
      "outputs": []
    },
    {
      "cell_type": "markdown",
      "metadata": {
        "id": "fCorR3kRUElw",
        "colab_type": "text"
      },
      "source": [
        "**References**\n",
        "\n",
        "Followed Examples from\n",
        "\n",
        "\n",
        "---\n",
        "\n",
        "https://www.depends-on-the-definition.com/named-entity-recognition-with-bert/\n",
        "\n",
        "https://mccormickml.com/2019/07/22/BERT-fine-tuning/\n",
        "\n",
        "http://jalammar.github.io/a-visual-guide-to-using-bert-for-the-first-time/\n",
        "\n",
        "https://www.kaggle.com/nkaenzig/bert-tensorflow-2-huggingface-transformers\n",
        "\n",
        "https://colab.research.google.com/drive/1ZQvuAVwA3IjybezQOXnrXMGAnMyZRuPU#scrollTo=tBa6vRHknSkv\n",
        "\n",
        "\n",
        "---\n",
        "\n"
      ]
    }
  ]
}